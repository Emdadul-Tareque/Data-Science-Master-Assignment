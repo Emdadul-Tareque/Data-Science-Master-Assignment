{
 "cells": [
  {
   "cell_type": "markdown",
   "metadata": {},
   "source": [
    "Q1. Explain Class and Object with respect to Object-Oriented Programming. Give a suitable example."
   ]
  },
  {
   "cell_type": "raw",
   "metadata": {},
   "source": [
    "In Object Oriented Programming, A class is a blueprint or template for creating an object. It defines the structure and behavior of an object. \n",
    "An Object is an instance of a class. It is a concrete entity that has the properties and behaviors defined by its class.  \n"
   ]
  },
  {
   "cell_type": "markdown",
   "metadata": {},
   "source": [
    "Q2. Name the four pillars of OOPs."
   ]
  },
  {
   "cell_type": "raw",
   "metadata": {},
   "source": [
    "The four pillars of OOPs are:\n",
    "1. Inheritance 2. Polymorphism 3. Encapsulation 4.Abstraction "
   ]
  },
  {
   "cell_type": "markdown",
   "metadata": {},
   "source": [
    "Q3. Explain why the __init__() function is used. Give a suitable example."
   ]
  },
  {
   "cell_type": "raw",
   "metadata": {},
   "source": [
    "the init function used to initialize the attributes of an object when it is created. It is an magic/dunder mathod in python that is called automatically when an object created. \n",
    "\n",
    "Here is an example -- "
   ]
  },
  {
   "cell_type": "code",
   "execution_count": 4,
   "metadata": {},
   "outputs": [],
   "source": [
    "class Person:\n",
    "    def __init__(self, name, nID):\n",
    "        self.name = name\n",
    "        self.nID = nID\n",
    "    def person_details(self):\n",
    "        return f\"name:{self.name}, nID: {self.nID}\""
   ]
  },
  {
   "cell_type": "code",
   "execution_count": 5,
   "metadata": {},
   "outputs": [],
   "source": [
    "person1 = Person(\"Emdadul\", 1995311220013)"
   ]
  },
  {
   "cell_type": "code",
   "execution_count": 6,
   "metadata": {},
   "outputs": [
    {
     "data": {
      "text/plain": [
       "'name:Emdadul, nID: 1995311220013'"
      ]
     },
     "execution_count": 6,
     "metadata": {},
     "output_type": "execute_result"
    }
   ],
   "source": [
    "person1.person_details()"
   ]
  },
  {
   "cell_type": "raw",
   "metadata": {},
   "source": [
    "Here we can see that init method was not called by object. It automatically called by system when obejct was created. "
   ]
  },
  {
   "cell_type": "markdown",
   "metadata": {},
   "source": [
    "Q4. Why self is used in OOPs?"
   ]
  },
  {
   "cell_type": "raw",
   "metadata": {},
   "source": [
    "self keyword is used to refer to the current instance of a class. It's used in methods to access the attributes and methods of the class. "
   ]
  },
  {
   "cell_type": "raw",
   "metadata": {},
   "source": [
    "Q5. What is inheritance? Give an example for each type of inheritance."
   ]
  },
  {
   "cell_type": "raw",
   "metadata": {},
   "source": [
    "Inheritance is a mechanism in OOP that allows one class to inherit the properties and behaviors of another class. This is powerful feature that can be used to te reuse code and to create more complex objects."
   ]
  }
 ],
 "metadata": {
  "kernelspec": {
   "display_name": "Python 3",
   "language": "python",
   "name": "python3"
  },
  "language_info": {
   "codemirror_mode": {
    "name": "ipython",
    "version": 3
   },
   "file_extension": ".py",
   "mimetype": "text/x-python",
   "name": "python",
   "nbconvert_exporter": "python",
   "pygments_lexer": "ipython3",
   "version": "3.7.3"
  }
 },
 "nbformat": 4,
 "nbformat_minor": 2
}
