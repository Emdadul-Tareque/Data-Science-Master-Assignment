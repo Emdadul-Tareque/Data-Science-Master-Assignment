{
 "cells": [
  {
   "cell_type": "markdown",
   "metadata": {},
   "source": [
    "Q1. What is an Exception in Python? Write the difference between Exceptions and Syntax erros."
   ]
  },
  {
   "cell_type": "markdown",
   "metadata": {},
   "source": [
    "Ans: An exception is an even that occurs during the execution of a program that disrupts the normal flow of the programs instructions. When an unwanted error raise in a program, python terminate the program. If it not handly properly it show an error message.  \n",
    "\n",
    "Difference Between Exception and Syntex Error:\n",
    "\n",
    "1. \n",
    "Exceptions: They are occure during the run time of a program\n",
    "\n",
    "syntex Errors: They are occur during the parsing phase.\n",
    "\n",
    "2. \n",
    "Exceptions: They are detected during the program's excution \n",
    "\n",
    "Syntex Errors: They are detected befor the program stars running \n",
    "\n",
    "3. \n",
    "Exceptions: They can handled using try-except blocks\n",
    "Syntax Errors: They must be fixed in the code before execution."
   ]
  },
  {
   "cell_type": "markdown",
   "metadata": {},
   "source": [
    "Q2. What happens when an exception is not handled? Explain with an example?"
   ]
  },
  {
   "cell_type": "markdown",
   "metadata": {},
   "source": [
    "Ans: When an exception is not handled, the python interpreter will print an error message and terminate the program. "
   ]
  },
  {
   "cell_type": "code",
   "execution_count": 6,
   "metadata": {},
   "outputs": [
    {
     "ename": "ZeroDivisionError",
     "evalue": "division by zero",
     "output_type": "error",
     "traceback": [
      "\u001b[0;31m---------------------------------------------------------------------------\u001b[0m",
      "\u001b[0;31mZeroDivisionError\u001b[0m                         Traceback (most recent call last)",
      "\u001b[0;32m<ipython-input-6-edfb67e306da>\u001b[0m in \u001b[0;36m<module>\u001b[0;34m\u001b[0m\n\u001b[0;32m----> 1\u001b[0;31m \u001b[0ma\u001b[0m \u001b[0;34m=\u001b[0m \u001b[0;36m10\u001b[0m\u001b[0;34m/\u001b[0m\u001b[0;36m0\u001b[0m\u001b[0;34m\u001b[0m\u001b[0;34m\u001b[0m\u001b[0m\n\u001b[0m\u001b[1;32m      2\u001b[0m \u001b[0mprint\u001b[0m\u001b[0;34m(\u001b[0m\u001b[0ma\u001b[0m\u001b[0;34m)\u001b[0m\u001b[0;34m\u001b[0m\u001b[0;34m\u001b[0m\u001b[0m\n",
      "\u001b[0;31mZeroDivisionError\u001b[0m: division by zero"
     ]
    }
   ],
   "source": [
    "a = 10/0\n",
    "print(a)"
   ]
  },
  {
   "cell_type": "raw",
   "metadata": {},
   "source": [
    "here we can see that, Python given  ZeroDivisionError and terminate the program. After raise this error we can see that python doesn't execute next line code"
   ]
  },
  {
   "cell_type": "markdown",
   "metadata": {},
   "source": [
    "Q3. Which python statements are used to catch and handle exceptions?Explain  with an example. "
   ]
  },
  {
   "cell_type": "markdown",
   "metadata": {},
   "source": [
    "try -- except statements are used to catch and handle exceptions. "
   ]
  },
  {
   "cell_type": "code",
   "execution_count": 7,
   "metadata": {},
   "outputs": [
    {
     "name": "stdout",
     "output_type": "stream",
     "text": [
      "division by zero\n"
     ]
    }
   ],
   "source": [
    "try:\n",
    "    a = 10/0\n",
    "except Exception as e:\n",
    "    print(e)"
   ]
  },
  {
   "cell_type": "markdown",
   "metadata": {},
   "source": [
    "here try statement used to catch exception and except statement used to handle exceptions"
   ]
  },
  {
   "cell_type": "markdown",
   "metadata": {},
   "source": [
    "Q4. Explain with an example:\n",
    "    a. try and else\n",
    "    b. finally\n",
    "    c. raise"
   ]
  },
  {
   "cell_type": "code",
   "execution_count": 9,
   "metadata": {},
   "outputs": [
    {
     "name": "stdout",
     "output_type": "stream",
     "text": [
      "list index out of range\n"
     ]
    }
   ],
   "source": [
    "# a. try and else\n",
    "try:\n",
    "   lst = [32, 12, 20, 34]\n",
    "   print(lst[10])\n",
    "except IndexError as e:\n",
    "    print(e)\n",
    "else:\n",
    "   lst[9] = lst[10] + lst[2]\n",
    "    "
   ]
  },
  {
   "cell_type": "raw",
   "metadata": {},
   "source": [
    "Here we can see that, one exception raise in try block and hanlded in except block and also else block isn't execute. else block will be execute if program has no error. "
   ]
  },
  {
   "cell_type": "code",
   "execution_count": 11,
   "metadata": {},
   "outputs": [
    {
     "name": "stdout",
     "output_type": "stream",
     "text": [
      "Error: can only concatenate str (not \"int\") to str\n",
      "This block will always execute\n"
     ]
    }
   ],
   "source": [
    "# b.Finally \n",
    "try:\n",
    "    result = \"hello\" + 42\n",
    "except TypeError as e:\n",
    "    print(\"Error:\", e)\n",
    "else:\n",
    "    print(result)\n",
    "finally:\n",
    "    print(\"This block will always execute\")"
   ]
  },
  {
   "cell_type": "markdown",
   "metadata": {},
   "source": [
    "Finally block always execute, it doesn't matter program has error or not"
   ]
  },
  {
   "cell_type": "code",
   "execution_count": 20,
   "metadata": {},
   "outputs": [
    {
     "name": "stdout",
     "output_type": "stream",
     "text": [
      "Enter a number: 230\n",
      "number must be less than 200 year\n"
     ]
    }
   ],
   "source": [
    "#c.raise \n",
    "def check_number(number):\n",
    "        if number < 0:\n",
    "            raise Error(\"Number can not be Negative\")\n",
    "        elif number > 200:\n",
    "            raise Error(\"number must be less than 200 year\")\n",
    "            \n",
    "try:\n",
    "    number = int(input(\"Enter a number: \"))\n",
    "    check_number(number)\n",
    "except Error as e:\n",
    "    print(e)\n",
    "        \n",
    "else:\n",
    "    print(\"You Enter a perfect number\")\n",
    "\n",
    "   \n",
    "    \n"
   ]
  },
  {
   "cell_type": "markdown",
   "metadata": {},
   "source": [
    "Q5. What are Custom Exceptions in python? Why do we need custom exceptions? Explain with an example."
   ]
  },
  {
   "cell_type": "markdown",
   "metadata": {},
   "source": [
    "Custom exceptions in python are user-defined exception classes that inherit from the built-in \"Exception\" class. These custom exceptions allow developers to define their own types of exceptions that are specific to their application's requirements. \n",
    "\n",
    "Why do we need custom exceptions:\n",
    "1. Custome exceptions allow programmers to raise and catch specific types of errors. \n",
    "2. By using custome exceptions, developers can write meaningful names to different error conditions, improving code readability and making it more self explanatory. \n"
   ]
  },
  {
   "cell_type": "code",
   "execution_count": 5,
   "metadata": {},
   "outputs": [
    {
     "name": "stdout",
     "output_type": "stream",
     "text": [
      "Which product you want to buy: watch\n",
      "watch not available in our store\n"
     ]
    }
   ],
   "source": [
    "class ProductNotFound(Exception):\n",
    "    def __init__(self, product_name):\n",
    "        super().__init__(f\"{product_name} not available in our store\")\n",
    "    \n",
    "    \n",
    "def product_store(product_name):\n",
    "    product_lst = [\"laptop\", \"keyboard\", \"mouse\", \"monitro\"]\n",
    "    \n",
    "    if product_name not in product_lst:\n",
    "        raise ProductNotFound(product_name)\n",
    "    else:\n",
    "        print(f\"Product is ready for Packaging\")\n",
    "\n",
    "try:\n",
    "    product_input = input(\"Which product you want to buy: \")\n",
    "    product_store(product_input)\n",
    "except ProductNotFound as e:\n",
    "    print(e)\n",
    "else:\n",
    "    print(f\"Thank you for Purchase\")"
   ]
  },
  {
   "cell_type": "markdown",
   "metadata": {},
   "source": [
    "Q6. Create a custom exception class. Use this class to handle an exception."
   ]
  },
  {
   "cell_type": "code",
   "execution_count": 21,
   "metadata": {},
   "outputs": [
    {
     "name": "stdout",
     "output_type": "stream",
     "text": [
      "Enter your age: 223\n",
      "Age must be less than 200\n"
     ]
    }
   ],
   "source": [
    "class Error(Exception):\n",
    "    def __init__(self, msg):\n",
    "        super().__init__(msg)\n",
    "\n",
    "if __name__ == \"__main__\":\n",
    "    def check_age(age):\n",
    "        if age < 0:\n",
    "            raise Error(\"Age can not be Error\")\n",
    "        elif age > 200:\n",
    "            raise Error(\"Age must be less than 200\")\n",
    "            \n",
    "    try:\n",
    "        age = int(input(\"Enter your age: \"))\n",
    "        check_age(age)\n",
    "    except Error as e:\n",
    "        print(e)\n",
    "        \n",
    "    else:\n",
    "        print(\"Age Excepted\")"
   ]
  },
  {
   "cell_type": "code",
   "execution_count": null,
   "metadata": {},
   "outputs": [],
   "source": []
  }
 ],
 "metadata": {
  "kernelspec": {
   "display_name": "Python 3",
   "language": "python",
   "name": "python3"
  },
  "language_info": {
   "codemirror_mode": {
    "name": "ipython",
    "version": 3
   },
   "file_extension": ".py",
   "mimetype": "text/x-python",
   "name": "python",
   "nbconvert_exporter": "python",
   "pygments_lexer": "ipython3",
   "version": "3.7.3"
  }
 },
 "nbformat": 4,
 "nbformat_minor": 2
}
