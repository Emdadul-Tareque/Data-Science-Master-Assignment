{
 "cells": [
  {
   "cell_type": "markdown",
   "metadata": {},
   "source": [
    "Q1. Explain why we have to use the Exception class while creating a Custom Exception."
   ]
  },
  {
   "cell_type": "markdown",
   "metadata": {},
   "source": [
    "Exception class is the base call for all exception. All exception implemented in exception class. that's why when creating a custom exception, it is essential to derive it from the exception class or one og its subclasses. "
   ]
  },
  {
   "cell_type": "markdown",
   "metadata": {},
   "source": [
    "Q2. Write a python program to print Python Exception Hierarchy.\n"
   ]
  },
  {
   "cell_type": "code",
   "execution_count": null,
   "metadata": {},
   "outputs": [],
   "source": [
    "import inspect\n",
    "\n",
    "def print_exception_hierarchy(exception_class):\n",
    "  print(\"The class hierarchy for\", exception_class.__name__, \"is:\")\n",
    "  for subclass in exception_class.__subclasses__():\n",
    "    print(\"  \", subclass.__name__)\n",
    "    print_exception_hierarchy(subclass)\n",
    "\n",
    "if __name__ == \"__main__\":\n",
    "  print_exception_hierarchy(BaseException)\n"
   ]
  },
  {
   "cell_type": "markdown",
   "metadata": {},
   "source": [
    "Q3. What errors are defined in the ArithmeticError class? Explain any two with an example.\n"
   ]
  },
  {
   "cell_type": "markdown",
   "metadata": {},
   "source": [
    "There are three erros are defined in the arithmeticError:\n",
    "\n",
    "1. OverflowError\n",
    "2. ZeroDividionError\n",
    "3. FloatingPointError\n",
    "\n",
    "    "
   ]
  },
  {
   "cell_type": "markdown",
   "metadata": {},
   "source": [
    "1.FloatingPointError\n",
    " this error occurs when an arithmetic operation results in a floating-point value that is not represtable. for example-"
   ]
  },
  {
   "cell_type": "code",
   "execution_count": 30,
   "metadata": {},
   "outputs": [
    {
     "ename": "ZeroDivisionError",
     "evalue": "float division by zero",
     "output_type": "error",
     "traceback": [
      "\u001b[0;31m---------------------------------------------------------------------------\u001b[0m",
      "\u001b[0;31mZeroDivisionError\u001b[0m                         Traceback (most recent call last)",
      "\u001b[0;32m<ipython-input-30-a0af66c16c72>\u001b[0m in \u001b[0;36m<module>\u001b[0;34m\u001b[0m\n\u001b[1;32m      2\u001b[0m \u001b[0mlogging\u001b[0m\u001b[0;34m.\u001b[0m\u001b[0mbasicConfig\u001b[0m\u001b[0;34m(\u001b[0m\u001b[0mfilename\u001b[0m\u001b[0;34m=\u001b[0m\u001b[0;34m\"floatError.log\"\u001b[0m\u001b[0;34m,\u001b[0m \u001b[0mlevel\u001b[0m\u001b[0;34m=\u001b[0m\u001b[0mlogging\u001b[0m\u001b[0;34m.\u001b[0m\u001b[0mERROR\u001b[0m \u001b[0;34m)\u001b[0m\u001b[0;34m\u001b[0m\u001b[0;34m\u001b[0m\u001b[0m\n\u001b[1;32m      3\u001b[0m \u001b[0;32mtry\u001b[0m\u001b[0;34m:\u001b[0m\u001b[0;34m\u001b[0m\u001b[0;34m\u001b[0m\u001b[0m\n\u001b[0;32m----> 4\u001b[0;31m     \u001b[0mres\u001b[0m \u001b[0;34m=\u001b[0m \u001b[0;36m1.0\u001b[0m \u001b[0;34m/\u001b[0m \u001b[0;36m0.0\u001b[0m\u001b[0;34m\u001b[0m\u001b[0;34m\u001b[0m\u001b[0m\n\u001b[0m\u001b[1;32m      5\u001b[0m     \u001b[0mprint\u001b[0m\u001b[0;34m(\u001b[0m\u001b[0mres\u001b[0m\u001b[0;34m)\u001b[0m\u001b[0;34m\u001b[0m\u001b[0;34m\u001b[0m\u001b[0m\n\u001b[1;32m      6\u001b[0m \u001b[0;32mexcept\u001b[0m \u001b[0mFloatingPointError\u001b[0m \u001b[0;32mas\u001b[0m \u001b[0me\u001b[0m\u001b[0;34m:\u001b[0m\u001b[0;34m\u001b[0m\u001b[0;34m\u001b[0m\u001b[0m\n",
      "\u001b[0;31mZeroDivisionError\u001b[0m: float division by zero"
     ]
    }
   ],
   "source": [
    "import logging \n",
    "logging.basicConfig(filename=\"floatError.log\", level=logging.ERROR )\n",
    "try:\n",
    "    res = 1.0 / 0.0\n",
    "    print(res)\n",
    "except FloatingPointError as e:\n",
    "     logging.error(e)"
   ]
  },
  {
   "cell_type": "markdown",
   "metadata": {},
   "source": [
    "2. OverFlowError\n",
    "When an arithmetic operation results in a value that is too large to be represtented by the data type. Let's see a example"
   ]
  },
  {
   "cell_type": "code",
   "execution_count": null,
   "metadata": {},
   "outputs": [],
   "source": [
    "import logging \n",
    "logging.basicConfig(filename=\"Error.log\", level=logging.ERROR )\n",
    "try:\n",
    "    res = 10**1000\n",
    "except OverflowError as e:\n",
    "    logging.error(e)\n",
    "else:\n",
    "    print(res)"
   ]
  },
  {
   "cell_type": "markdown",
   "metadata": {},
   "source": [
    "Q4. Why LookupError class is used? Explain with an example KeyError and IndexError.\n"
   ]
  },
  {
   "cell_type": "markdown",
   "metadata": {},
   "source": [
    "The \"LookupError\" class is a based class for exceptions that occur when an invalid key or index is used to look up elements in collection. \n",
    "\"LookupError\" is designed to be a superclass for more specific lookup-related exceptions such as \"keyError\" and \"IndexError\""
   ]
  },
  {
   "cell_type": "markdown",
   "metadata": {},
   "source": [
    "\"KeyError\" Example:"
   ]
  },
  {
   "cell_type": "code",
   "execution_count": 34,
   "metadata": {},
   "outputs": [],
   "source": [
    "import logging \n",
    "logging.basicConfig(filename=\"keyError.log\", level=logging.ERROR )\n",
    "dic = {\"name\": \"Emdadul\", \"city\":\"Dhaka\"}\n",
    "try:\n",
    "    value = dic[\"age\"]\n",
    "except KeyError as e:\n",
    "    logging.error(f\"{e} doesn't exist\")\n",
    "else:\n",
    "    print(value)"
   ]
  },
  {
   "cell_type": "markdown",
   "metadata": {},
   "source": [
    "\"IndexError\" Example"
   ]
  },
  {
   "cell_type": "code",
   "execution_count": 35,
   "metadata": {},
   "outputs": [],
   "source": [
    "import logging \n",
    "logging.basicConfig(filename=\"indexError.log\", level=logging.ERROR )\n",
    "lst = [2, 3, 10, 20, 23]\n",
    "\n",
    "try:\n",
    "    element = lst[10]\n",
    "except IndexError as e:\n",
    "    logging.error(e)\n",
    "else:\n",
    "    print(element)"
   ]
  },
  {
   "cell_type": "markdown",
   "metadata": {},
   "source": [
    "Q5. Explain ImportError. What is ModuleNotFoundError"
   ]
  },
  {
   "cell_type": "markdown",
   "metadata": {},
   "source": [
    "ImportError:\n",
    "Import Error is an exception that occurs when there is an issue with importing a module or a package in python. \n",
    "\n",
    "ModuleNotFoundError:\n",
    "\"ModuleNotFoundError\" is a subclass of \"ImportError\" it provides the same error message as the general\"ImportError\". \"ModuleNotFoundError\" used when anyone specifically want to catch cases where a module could not be found during the import process"
   ]
  },
  {
   "cell_type": "code",
   "execution_count": 38,
   "metadata": {},
   "outputs": [],
   "source": [
    "import logging \n",
    "logging.basicConfig(filename=\"error.log\", level=logging.ERROR )\n",
    "try:\n",
    "    import exception\n",
    "except ModuleNotFoundError as e:\n",
    "    logging.error(f\"ModuleNotFoundError: {e}\")"
   ]
  },
  {
   "cell_type": "markdown",
   "metadata": {},
   "source": [
    "Q6. List down some best practices for exception handling in python"
   ]
  },
  {
   "cell_type": "markdown",
   "metadata": {},
   "source": [
    "Here are some best practices for exception handling in python:\n",
    "    \n",
    "1. Use always a specific exception\n",
    "2. Print always a proper message \n",
    "3. Always try to log your error\n",
    "4. Alwasy avoid to write multiple exception handling \n",
    "5. Document all the error\n",
    "6. clean up all the resources "
   ]
  },
  {
   "cell_type": "code",
   "execution_count": null,
   "metadata": {},
   "outputs": [],
   "source": []
  }
 ],
 "metadata": {
  "kernelspec": {
   "display_name": "Python 3",
   "language": "python",
   "name": "python3"
  },
  "language_info": {
   "codemirror_mode": {
    "name": "ipython",
    "version": 3
   },
   "file_extension": ".py",
   "mimetype": "text/x-python",
   "name": "python",
   "nbconvert_exporter": "python",
   "pygments_lexer": "ipython3",
   "version": "3.7.3"
  }
 },
 "nbformat": 4,
 "nbformat_minor": 2
}
